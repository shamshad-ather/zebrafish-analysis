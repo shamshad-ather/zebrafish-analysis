{
 "cells": [
  {
   "cell_type": "markdown",
   "id": "f980f20b",
   "metadata": {},
   "source": [
    "# Zebrafish Trajectory Analysis Script\n",
    "\n",
    "This script analyzes the movement of zebrafish in a 12-well plate experiment. It reads trajectory data, preprocesses it, calculates trajectories and velocities, performs statistical analysis, and generates visualizations.\n",
    "## 1. Imports and Constants\n",
    "\n",
    "This section imports necessary libraries and defines constants for the experimental setup.\n",
    "\n",
    "**Explanation:**\n",
    "\n",
    "*   **Libraries:** Imports the pandas library for data manipulation, matplotlib for plotting, numpy for numerical calculations, seaborn for statistical visualizations, and scipy.stats for statistical tests.\n",
    "*   **Constants:** Defines key parameters such as frames per second (`FPS`), tank dimensions (`TANK_WIDTH_CM`, `TANK_HEIGHT_CM`), video resolution (`RESOLUTION_WIDTH`, `RESOLUTION_HEIGHT`), number of fish (`NUM_FISH`), image DPI (`DPI`).\n",
    "*   **Fish Name Mapping:** Defines a dictionary `fish_name_mapping` to assign names to each fish, including duplicates."
   ]
  },
  {
   "cell_type": "code",
   "execution_count": 15,
   "id": "a66238af",
   "metadata": {},
   "outputs": [],
   "source": [
    "import pandas as pd\n",
    "import matplotlib.pyplot as plt\n",
    "import numpy as np\n",
    "import seaborn as sns\n",
    "import scipy.stats as stats"
   ]
  },
  {
   "cell_type": "code",
   "execution_count": 16,
   "id": "af7b0af7",
   "metadata": {},
   "outputs": [],
   "source": [
    "# Constants\n",
    "FPS = 30\n",
    "TANK_WIDTH_CM = 8.548 # in cm\n",
    "TANK_HEIGHT_CM = 12.776 # in cm\n",
    "RESOLUTION_WIDTH = 1800 # in pixels\n",
    "RESOLUTION_HEIGHT = 2200 # in pixels\n",
    "NUM_FISH = 12\n",
    "DPI = 600  # for saving figures"
   ]
  },
  {
   "cell_type": "code",
   "execution_count": 17,
   "id": "0ca3ecf8",
   "metadata": {},
   "outputs": [],
   "source": [
    "# Fish name mapping\n",
    "fish_name_mapping = {\n",
    "    1: 'Pos Control',\n",
    "    2: 'Pos Control',\n",
    "    3: 'Neg Control',\n",
    "    4: 'Pos Control',\n",
    "    5: 'Neg Control',\n",
    "    6: 'Neg Control',\n",
    "    7: 'Test',\n",
    "    8: 'Neg Control',\n",
    "    9: 'Neg Control',\n",
    "    10: 'Neg Control',\n",
    "    11: 'Pos Control',\n",
    "    12: 'Test'\n",
    "}"
   ]
  },
  {
   "cell_type": "markdown",
   "id": "28675002",
   "metadata": {},
   "source": [
    "## 2. Data Loading and Preprocessing\n",
    "\n",
    "This section loads the trajectory data from a CSV file and preprocesses it.\n",
    "**Explanation:**\n",
    "\n",
    "*   **Load Data:** Reads the `trajectories.csv` file into a pandas DataFrame named `df`.\n",
    "*   **Interpolation:** Fills missing data points (NaN) in the DataFrame using linear interpolation with a polynomial of order 3.  This smooths the data.\n",
    "*   **Time Column:** Creates a new column named `time` representing the time in seconds for each frame based on the DataFrame index and the frame rate (`FPS`)."
   ]
  },
  {
   "cell_type": "code",
   "execution_count": 18,
   "id": "04d9dc6d",
   "metadata": {},
   "outputs": [],
   "source": [
    "# Load the data\n",
    "df = pd.read_csv('trajectories.csv')"
   ]
  },
  {
   "cell_type": "code",
   "execution_count": 19,
   "id": "f73a672d",
   "metadata": {
    "lines_to_next_cell": 1
   },
   "outputs": [],
   "source": [
    "# Data Preprocessing\n",
    "df.interpolate(method='linear', order=3, inplace=True)  # interpolate values\n",
    "df['time'] = df.index / FPS  # Add a time column in seconds"
   ]
  },
  {
   "cell_type": "markdown",
   "id": "b713e024",
   "metadata": {},
   "source": [
    "## 3. Pixel to Centimeter Conversion\n",
    "\n",
    "This section defines a function to convert pixel coordinates to real-world centimeters.\n",
    "\n",
    "**Explanation:**\n",
    "\n",
    "*   **`pixel_to_cm(x, y)` Function:**  Takes `x` and `y` pixel coordinates as input and returns the corresponding centimeter coordinates based on the tank's dimensions and video resolution.\n",
    "*   **Coordinate Conversion:** The `pixel_to_cm` function is applied to each x, y coordinate pair (e.g., 'x1', 'y1', 'x2', 'y2', etc.) in the DataFrame using the `.apply` method. New columns are generated, such as `x1_cm`, `y1_cm` and so on to represent the positions in centimeters."
   ]
  },
  {
   "cell_type": "code",
   "execution_count": 20,
   "id": "282447a2",
   "metadata": {
    "lines_to_next_cell": 1
   },
   "outputs": [],
   "source": [
    "# Function to convert pixel coordinates to centimeters\n",
    "def pixel_to_cm(x, y):\n",
    "    x_cm = (x / RESOLUTION_WIDTH) * TANK_WIDTH_CM\n",
    "    y_cm = (y / RESOLUTION_HEIGHT) * TANK_HEIGHT_CM\n",
    "    return x_cm, y_cm"
   ]
  },
  {
   "cell_type": "code",
   "execution_count": 21,
   "id": "dba98c23",
   "metadata": {},
   "outputs": [],
   "source": [
    "# Convert all coordinates to centimeters and add as new columns\n",
    "for i in range(1, NUM_FISH + 1):\n",
    "    df[f'x{i}_cm'], df[f'y{i}_cm'] = zip(*df.apply(lambda row: pixel_to_cm(row[f'x{i}'], row[f'y{i}']), axis=1))"
   ]
  },
  {
   "cell_type": "markdown",
   "id": "241501a3",
   "metadata": {},
   "source": [
    "## 4. Defining Wells and Normalizing Trajectories\n",
    "\n",
    "This section defines the well locations and removes data outside the wells.\n",
    "\n",
    "**Explanation:**\n",
    "\n",
    "*   **Well Centers and Radius:** Defines a dictionary `well_centers` to hold the (x, y) coordinates of the centers of each well, and `well_radius` represents the pixel radius of a well.\n",
    "*   **`is_inside_well` Function:**  Takes a point (x, y), a well center, and a radius as inputs. It returns `True` if the point is inside the circle defined by the well, `False` otherwise.\n",
    "*   **Data Normalization:**\n",
    "    *   A copy of the original DataFrame is made and called `df_normalized`.\n",
    "    *   It then iterates through the fish and apply the `is_inside_well` function using the respective well center. If a position of a fish is located outside of its well, the x, y coordinates in `df_normalized` are converted to `NaN`, effectively removing them."
   ]
  },
  {
   "cell_type": "code",
   "execution_count": 22,
   "id": "4f45f405",
   "metadata": {
    "lines_to_next_cell": 1
   },
   "outputs": [],
   "source": [
    "# Define the approximate well centers and radius\n",
    "well_centers = {\n",
    "    1: (944, 1889), 2: (1551, 1894), 3: (333, 1886), 4: (1559, 1369),\n",
    "    5: (950, 1356), 6: (350, 1363), 7: (1570, 838), 8: (365, 830),\n",
    "    9: (961, 828), 10: (959, 317), 11: (342, 270), 12: (1566, 314)\n",
    "}\n",
    "well_radius = 225  # Adjust based on actual pixel size"
   ]
  },
  {
   "cell_type": "code",
   "execution_count": 23,
   "id": "917520f4",
   "metadata": {
    "lines_to_next_cell": 1
   },
   "outputs": [],
   "source": [
    "# Function to check if a point is inside a circular well\n",
    "def is_inside_well(x, y, well_center, well_radius):\n",
    "    xc, yc = well_center\n",
    "    return (x - xc)**2 + (y - yc)**2 <= well_radius**2"
   ]
  },
  {
   "cell_type": "code",
   "execution_count": 24,
   "id": "cc0422cb",
   "metadata": {},
   "outputs": [],
   "source": [
    "# Create a copy of the dataframe, and remove all the points outside the designated well.\n",
    "df_normalized = df.copy()"
   ]
  },
  {
   "cell_type": "code",
   "execution_count": 25,
   "id": "768fe684",
   "metadata": {},
   "outputs": [],
   "source": [
    "# Iterate over all fish and mark points outside their respective well as NaN\n",
    "for i in range(1, 13):\n",
    "    x_col = f'x{i}'\n",
    "    y_col = f'y{i}'\n",
    "    \n",
    "    well_center = well_centers[i]\n",
    "    \n",
    "    # Apply function to detect outliers and set them to NaN\n",
    "    mask_outside = ~df_normalized.apply(lambda row: is_inside_well(row[x_col], row[y_col], well_center, well_radius), axis=1)\n",
    "    df_normalized.loc[mask_outside, [x_col, y_col]] = np.nan"
   ]
  },
  {
   "cell_type": "markdown",
   "id": "72450400",
   "metadata": {},
   "source": [
    "## 5. Analysis Function\n",
    "\n",
    "This section defines a function to analyze the zebrafish trajectories within a given time range.\n",
    "**Explanation:**\n",
    "\n",
    "*   **`analyze_zebrafish(start_time, end_time)` Function:**  The core analysis logic is encapsulated within this function. It takes `start_time` and `end_time` parameters to control the analysis window.\n",
    "*   **Combined Trajectory Plot:** Creates a plot with trajectories of all fish in one plot, with labels from the `fish_name_mapping`.\n",
    "*   **Separate Density Plots:** Each fish now has its own separate density plot, and the filenames are saved using the `fish_name_mapping` and an identifier `i`.\n",
    "*    **Statistical Tests:** Performs an ANOVA and Kruskal-Wallis test using all of the data points in the selected range.\n",
    "*   **CSV Saving:** The results of all statistical tests, distances, and speed data are saved to distinct CSV files using Pandas DataFrames and the specified naming convention."
   ]
  },
  {
   "cell_type": "code",
   "execution_count": null,
   "id": "dd0ffa14",
   "metadata": {
    "lines_to_next_cell": 1
   },
   "outputs": [],
   "source": [
    "# Print to check which names were actually used.\n",
    "print(f\"Using the following names: {fish_name_mapping}\")"
   ]
  },
  {
   "cell_type": "code",
   "execution_count": 27,
   "id": "e9cd1d19",
   "metadata": {
    "lines_to_next_cell": 1
   },
   "outputs": [],
   "source": [
    "def analyze_zebrafish(start_time, end_time):\n",
    "    # Calculate time range for analysis\n",
    "    TIME_RANGE_START = start_time\n",
    "    TIME_RANGE_END = end_time\n",
    "\n",
    "    # Filter data for specified time range\n",
    "    df_time_range = df[(df['time'] >= TIME_RANGE_START) & (df['time'] <= TIME_RANGE_END)].copy()\n",
    "\n",
    "    # 1. Combined Trajectory Plot\n",
    "    plt.figure(figsize=(8, 10))\n",
    "    for i in range(1, NUM_FISH + 1):\n",
    "        x_col = f'x{i}'\n",
    "        y_col = f'y{i}'\n",
    "        label = fish_name_mapping[i]\n",
    "        plt.plot(df_normalized[x_col], df_normalized[y_col], label=label, alpha = 0.7)\n",
    "    plt.title('Trajectories of All Zebrafish', fontweight='bold', fontsize=20)\n",
    "    plt.xlabel('X Coordinates (pixels)')\n",
    "    plt.ylabel('Y Coordinates (pixels)')\n",
    "    plt.legend(loc='upper right')\n",
    "    plt.grid(False)\n",
    "    plt.savefig(f'trajectories_all_{TIME_RANGE_START}_{TIME_RANGE_END}.png', dpi=DPI)\n",
    "    #plt.show()\n",
    "\n",
    "    # Individual Density Plots\n",
    "    for i in range(1, NUM_FISH + 1):\n",
    "        plt.figure(figsize=(5, 5))\n",
    "        x_col = f'x{i}'\n",
    "        y_col = f'y{i}'\n",
    "        sns.kdeplot(x=df_normalized[x_col].dropna(), y=df_normalized[y_col].dropna(), cmap='viridis', fill=True, levels=5, alpha = 0.8)\n",
    "        plt.title(f'Density Plot for {fish_name_mapping[i]}')\n",
    "        plt.xlabel('X Coordinates (pixels)')\n",
    "        plt.ylabel('Y Coordinates (pixels)')\n",
    "        plt.savefig(f'density_{fish_name_mapping[i]}_{i}_{TIME_RANGE_START}_{TIME_RANGE_END}.png', dpi=DPI)\n",
    "        #plt.show()\n",
    "\n",
    "    # 2. Distance Travelled\n",
    "    def calculate_distance_travelled(df, fish_num):\n",
    "        dx = df[f'x{fish_num}_cm'].diff()\n",
    "        dy = df[f'y{fish_num}_cm'].diff()\n",
    "        return np.sqrt(dx**2 + dy**2).sum()\n",
    "    \n",
    "    distances = [calculate_distance_travelled(df_time_range, i) for i in range(1, NUM_FISH + 1)]\n",
    "    \n",
    "    # Creating labels with fish names and their identifiers for the Distance Plot\n",
    "    labels_with_ids = [f'{fish_name_mapping[i]} {i}' for i in range(1, NUM_FISH + 1)]\n",
    "    \n",
    "    plt.figure(figsize=(12, 6))\n",
    "    plt.bar(labels_with_ids, distances)\n",
    "    plt.xlabel('Fish')\n",
    "    plt.ylabel('Total Distance Travelled (cm)')\n",
    "    plt.title(f'Total Distance Travelled by Each Fish ({TIME_RANGE_START}s to {TIME_RANGE_END}s)')\n",
    "    plt.xticks(rotation=45, ha='right')\n",
    "    plt.tight_layout()\n",
    "    plt.savefig(f'distance_{TIME_RANGE_START}_{TIME_RANGE_END}.png', dpi=DPI)\n",
    "    #plt.show()\n",
    "    \n",
    "    # 3. Individual Speed Plots\n",
    "    for i in range(1, NUM_FISH + 1):\n",
    "      df_time_range[f'speed{i}'] = np.sqrt(df_time_range[f'x{i}_cm'].diff()**2 + df_time_range[f'y{i}_cm'].diff()**2) / \\\n",
    "                                       df_time_range['time'].diff()\n",
    "    \n",
    "    for i in range(1, NUM_FISH + 1):\n",
    "        plt.figure(figsize=(8, 6))\n",
    "        plt.plot(df_time_range['time'], df_time_range[f'speed{i}'], label=fish_name_mapping[i])\n",
    "        plt.xlabel('Time (s)')\n",
    "        plt.ylabel('Speed (cm/s)')\n",
    "        plt.title(f'Speed of {fish_name_mapping[i]}')\n",
    "        plt.grid(True)\n",
    "        plt.savefig(f'speed_{fish_name_mapping[i]}_{i}_{TIME_RANGE_START}_{TIME_RANGE_END}.png', dpi=DPI)\n",
    "        #plt.show()\n",
    "    \n",
    "  # 4. Combined Violin Plot\n",
    "    df_speed = df_time_range[[f'speed{i}' for i in range(1, NUM_FISH+1)]].copy()\n",
    "    # Create a mapping of column names to fish names and to their numbers\n",
    "    speed_col_to_name = {f'speed{i}': f'{fish_name_mapping[i]} {i}' for i in range(1, NUM_FISH + 1)}\n",
    "    \n",
    "    # Rename the columns with both the name and the number.\n",
    "    df_speed.rename(columns = speed_col_to_name, inplace = True)\n",
    "    \n",
    "    df_melt = df_speed.melt(var_name='Fish', value_name='Velocity')\n",
    "    \n",
    "    # Change the \"Fish\" variable in df_melt to the numbers.\n",
    "    df_melt['Fish_id'] = df_melt['Fish'].apply(lambda x: x.split(\" \")[0]) #Modified here.\n",
    "    \n",
    "    # Add the full label\n",
    "    df_melt['Fish_label'] = df_melt['Fish']\n",
    "\n",
    "    plt.rcParams['font.family'] = 'Times New Roman'\n",
    "    plt.figure(figsize=(12, 8))\n",
    "    sns.violinplot(x='Fish_label', y='Velocity', data=df_melt, palette='Paired', hue='Fish_label', legend=False) #Modified here.\n",
    "    plt.xticks(fontsize=16, rotation=45, ha='right')\n",
    "    plt.yticks(fontsize=16)\n",
    "    plt.title(f'Velocity Distribution of All Fish ({TIME_RANGE_START}s to {TIME_RANGE_END}s)', fontsize=24, fontweight='bold')\n",
    "    plt.xlabel('Fish', fontsize=20, fontweight='bold')\n",
    "    plt.ylabel('Speed (cm/s)', fontsize=20, fontweight='bold')\n",
    "    plt.grid(False)\n",
    "    plt.ylim(-2, 15)  # Set y-axis limit to -5 to 5\n",
    "    plt.savefig(f'violin_velocity_all_{TIME_RANGE_START}_{TIME_RANGE_END}.png', dpi=DPI, bbox_inches='tight')\n",
    "    #plt.show()\n",
    "\n",
    "    # 5. Statistical Tests (Combined Data)\n",
    "    velocities = [df_time_range[f'speed{i}'].dropna() for i in range(1, NUM_FISH + 1)]\n",
    "    \n",
    "    # Remove any empty lists of velocities\n",
    "    velocities = [vel for vel in velocities if not vel.empty]\n",
    "\n",
    "    # Statistical Tests for Distances\n",
    "    stats_results_dist = {}\n",
    "    if len(distances) >= 2:\n",
    "        f_value_dist, p_value_dist = stats.f_oneway(*distances)\n",
    "        stats_results_dist['ANOVA F-value'] = f_value_dist\n",
    "        stats_results_dist['ANOVA p-value'] = p_value_dist\n",
    "        print(f'ANOVA F-value (Distance): {f_value_dist}, p-value: {p_value_dist}')\n",
    "    else:\n",
    "         print(\"ANOVA on distance not performed: Less than two fish available.\")\n",
    "\n",
    "    if len(distances) >= 2:\n",
    "        kruskal_h_dist, kruskal_p_dist = stats.kruskal(*distances)\n",
    "        stats_results_dist['Kruskal-Wallis H-statistic'] = kruskal_h_dist\n",
    "        stats_results_dist['Kruskal-Wallis p-value'] = kruskal_p_dist\n",
    "        print(f'Kruskal-Wallis H-statistic (Distance): {kruskal_h_dist}, p-value: {kruskal_p_dist}')\n",
    "    else:\n",
    "         print(\"Kruskal-Wallis on distance not performed: Less than two fish available.\")\n",
    "\n",
    "    stats_df_dist = pd.DataFrame([stats_results_dist])\n",
    "    stats_df_dist.to_csv(f'stats_distances_{TIME_RANGE_START}_{TIME_RANGE_END}.csv', index=False)\n",
    "\n",
    "    # Statistical Tests for Velocities\n",
    "    stats_results_vel = {}\n",
    "    if len(velocities) >= 2:\n",
    "       f_value_vel, p_value_vel = stats.f_oneway(*velocities)\n",
    "       stats_results_vel['ANOVA F-value'] = f_value_vel\n",
    "       stats_results_vel['ANOVA p-value'] = p_value_vel\n",
    "       print(f'ANOVA F-value (Velocity): {f_value_vel}, p-value: {p_value_vel}')\n",
    "    else:\n",
    "       print(\"ANOVA on velocity not performed: Less than two fish available.\")\n",
    "    if len(velocities) >= 2:\n",
    "        kruskal_h_vel, kruskal_p_vel = stats.kruskal(*velocities)\n",
    "        stats_results_vel['Kruskal-Wallis H-statistic'] = kruskal_h_vel\n",
    "        stats_results_vel['Kruskal-Wallis p-value'] = kruskal_p_vel\n",
    "        print(f'Kruskal-Wallis H-statistic (Velocity): {kruskal_h_vel}, p-value: {kruskal_p_vel}')\n",
    "    else:\n",
    "      print(\"Kruskal-Wallis on velocity not performed: Less than two fish available.\")\n",
    "\n",
    "    stats_df_vel = pd.DataFrame([stats_results_vel])\n",
    "    stats_df_vel.to_csv(f'stats_velocities_{TIME_RANGE_START}_{TIME_RANGE_END}.csv', index=False)\n",
    "    \n",
    "    # Save distance traveled data to CSV\n",
    "    df_distances = pd.DataFrame({'Fish': labels_with_ids, 'Distance': distances})\n",
    "    df_distances.to_csv(f'distances_{TIME_RANGE_START}_{TIME_RANGE_END}.csv', index = False)\n",
    "\n",
    "    # Save speed data to CSV\n",
    "    df_speeds = df_time_range[[f'speed{i}' for i in range(1, NUM_FISH+1)]].copy()\n",
    "    df_speeds.rename(columns = {f'speed{i}': fish_name_mapping[i] for i in range(1, NUM_FISH+1)}, inplace = True)\n",
    "    df_speeds.to_csv(f'speeds_{TIME_RANGE_START}_{TIME_RANGE_END}.csv', index=False)\n",
    "\n",
    "    # Print summary statistics\n",
    "    print(f\"Summary Statistics ({TIME_RANGE_START}s to {TIME_RANGE_END}s):\")\n",
    "    print(f\"Total frames: {len(df_time_range)}\")\n",
    "    print(f\"Analyzed time: {df_time_range['time'].max() - df_time_range['time'].min():.2f} seconds\")\n",
    "    print(\"\\nDistance Travelled:\")\n",
    "    for i, dist in enumerate(distances, 1):\n",
    "        print(f\"{labels_with_ids[i-1]}: {dist:.2f} cm\")\n",
    "    print(\"\\nAverage Speed:\")\n",
    "    for i in range(1, NUM_FISH + 1):\n",
    "       print(f\"{fish_name_mapping[i]}: {df_time_range[f'speed{i}'].mean():.2f} cm/s\")"
   ]
  },
  {
   "cell_type": "markdown",
   "id": "3e04ccb6",
   "metadata": {},
   "source": [
    "## 6. Calling the Analysis Function\n",
    "\n",
    "This section calls the analysis function with the specified parameters.\n",
    "**Explanation:**\n",
    "\n",
    "*   Sets the values for start and end time, and calls the `analyze_zebrafish` function with those parameters.\n",
    "\n",
    "*  Run the script using `Run All` button at `Top` of this notebook.\n"
   ]
  },
  {
   "cell_type": "code",
   "execution_count": null,
   "id": "ceb7de56",
   "metadata": {},
   "outputs": [],
   "source": [
    "# Get analysis range from user (can be hardcoded for testing)\n",
    "analysis_start_time = 0  # Start time in seconds\n",
    "analysis_end_time = 200  # End time in seconds\n",
    "analyze_zebrafish(analysis_start_time, analysis_end_time)"
   ]
  }
 ],
 "metadata": {
  "jupytext": {
   "cell_metadata_filter": "-all",
   "main_language": "python",
   "notebook_metadata_filter": "-all"
  },
  "kernelspec": {
   "display_name": "idtrackerai",
   "language": "python",
   "name": "python3"
  },
  "language_info": {
   "codemirror_mode": {
    "name": "ipython",
    "version": 3
   },
   "file_extension": ".py",
   "mimetype": "text/x-python",
   "name": "python",
   "nbconvert_exporter": "python",
   "pygments_lexer": "ipython3",
   "version": "3.12.8"
  }
 },
 "nbformat": 4,
 "nbformat_minor": 5
}
